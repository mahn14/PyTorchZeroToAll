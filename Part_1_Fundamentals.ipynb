{
 "cells": [
  {
   "cell_type": "code",
   "execution_count": 17,
   "metadata": {},
   "outputs": [],
   "source": [
    "import numpy as np\n",
    "import matplotlib.pyplot as plt"
   ]
  },
  {
   "cell_type": "markdown",
   "metadata": {},
   "source": [
    "## 1. Overview"
   ]
  },
  {
   "cell_type": "markdown",
   "metadata": {},
   "source": [
    "### PyTorch: Zero To All"
   ]
  },
  {
   "cell_type": "markdown",
   "metadata": {},
   "source": [
    "This notebook goes over an instructional guide and implementation of [Sung Kim's PyTorch:ZeroToAll](https://www.youtube.com/watch?v=SKq-pmkekTk&list=PLlMkM4tgfjnJ3I-dbhO9JTw7gNty6o_2m&index=1) video lecture series from YouTube."
   ]
  },
  {
   "cell_type": "markdown",
   "metadata": {},
   "source": [
    "The goal of this notebook is to learn while teaching; rather than simply copying his code, I hope to illustrate the basic reasoning and concepts behind the modeling process. "
   ]
  },
  {
   "cell_type": "markdown",
   "metadata": {},
   "source": [
    "## 2. Linear Model"
   ]
  },
  {
   "cell_type": "markdown",
   "metadata": {},
   "source": [
    "__Building a Model__  \n",
    "We begin by building a simple, linear model.\n",
    "  \n",
    "For this, we use a makeshift dataset of the form y = 2 * x. However, we also add slight perturbations to the y using random values from a scaled Normal distribution.  \n",
    "  \n",
    "The very basics of building a model is realy in just finding the parameters. In this case, we are given data for X and Y and must calculate the optimal value for the unknown \"2\". This involves several factors. First, what do we define as optimal? And second, how do we begin to approach this 'optimal' solution?\n",
    "  \n",
    "1. Loss Function - the optimal parameter, or weight as we will call it, is the value that lets our model have the least error, represented by our Loss function. In this case, we use Mean Squared Error.  \n",
    "2. Iterative Process - we can do this by trying out multiple values 'w' and see which minimizes loss."
   ]
  },
  {
   "cell_type": "code",
   "execution_count": 18,
   "metadata": {
    "code_folding": []
   },
   "outputs": [],
   "source": [
    "# Training Data\n",
    "x_data = np.array(range(0,10))\n",
    "y_data = np.array([2*x + np.random.normal(0, 0.1) for x in x_data]) #add Normal perturbation"
   ]
  },
  {
   "cell_type": "code",
   "execution_count": 19,
   "metadata": {
    "code_folding": [
     1
    ]
   },
   "outputs": [],
   "source": [
    "# Forward Linear Model\n",
    "def forward(w, x):\n",
    "    return(x*w)"
   ]
  },
  {
   "cell_type": "code",
   "execution_count": 20,
   "metadata": {
    "code_folding": [
     1
    ]
   },
   "outputs": [],
   "source": [
    "# Sum of Squares Loss\n",
    "def loss(w, x, y):\n",
    "    y_pred = forward(w, x)\n",
    "    l = np.square((y_pred - y))\n",
    "    return(l)"
   ]
  },
  {
   "cell_type": "code",
   "execution_count": 21,
   "metadata": {
    "code_folding": [
     0
    ]
   },
   "outputs": [],
   "source": [
    "# Explore MSE using w\n",
    "# Store values\n",
    "mse_list = []\n",
    "w_list = np.arange(0.0, 4.1, 0.1)\n",
    "\n",
    "# Try values for w\n",
    "for w in w_list:\n",
    "    l_sum=0\n",
    "    \n",
    "    # Calculate total model loss for w\n",
    "    for x_val, y_val in zip(x_data, y_data):\n",
    "        l = loss(w, x_val, y_val)\n",
    "        l_sum += l\n",
    "    mse = l_sum/len(y_data)\n",
    "    mse_list.append(mse)"
   ]
  },
  {
   "cell_type": "code",
   "execution_count": 22,
   "metadata": {
    "code_folding": [
     0
    ]
   },
   "outputs": [
    {
     "data": {
      "image/png": "[encoded data removed]",
      "text/plain": [
       "<Figure size 432x288 with 1 Axes>"
      ]
     },
     "metadata": {
      "needs_background": "light"
     },
     "output_type": "display_data"
    }
   ],
   "source": [
    "# Loss vs W\n",
    "plt.title(\"Loss Function by Weights\")\n",
    "plt.plot(w_list, mse_list)\n",
    "plt.xlabel('W')\n",
    "plt.ylabel('MSE')\n",
    "plt.show()"
   ]
  },
  {
   "cell_type": "markdown",
   "metadata": {},
   "source": [
    "Clearly, we have the least amount of error for our predictions around where w is 2 - which is exactly how we built the data set. So, we know through visualizations to use 'w = 2' as a solution to completing our model."
   ]
  },
  {
   "cell_type": "markdown",
   "metadata": {},
   "source": [
    "## 3. Gradient Descent"
   ]
  },
  {
   "cell_type": "markdown",
   "metadata": {},
   "source": [
    "__Gradient Descent__  \n",
    "Gradient Descent is an optimization algorithm that moves towards a direction of increase or decrease. Using the idea of a derivative outputing the direction of change, we can move a 'step' in that direction until we reach convergence.  \n",
    "  \n",
    "Also, we decide how much to move in that direction using a parameter called 'alpha'. This makes sure that we converge fast enough by not taking miniscule steps, but also so that we do not pass the minimal value and iterate further away.\n",
    "  \n",
    "__GD on MSE__  \n",
    "Looking at our visualization in Part 2, we can see how our loss function is always concave. Algebraically, this makes sense since we are just looking at a function of the form L(w) = (y - wx)^2.  \n",
    "  \n",
    "So, we know that the gradient can show us the direction of decrease at a point, and we know that the function has a single minimum value for all values w. Essentially, this means that we can continue moving in that direction until we are arbitrarily satisfied with our newfound weight, w."
   ]
  },
  {
   "cell_type": "code",
   "execution_count": 23,
   "metadata": {
    "code_folding": []
   },
   "outputs": [],
   "source": [
    "# Stochastic Gradient Descent Algorithm\n",
    "def gradient(w, x, y, alpha=1):\n",
    "    \n",
    "    # forward function, f\n",
    "    f = forward(w, x)\n",
    "    \n",
    "    # w_new = w_old - dL/dw (move in direction of negative loss)\n",
    "    g = 2*x*alpha*(f - y)\n",
    "    return(g)"
   ]
  },
  {
   "cell_type": "markdown",
   "metadata": {},
   "source": [
    "__When are we finished?__  \n",
    "We can iterate through this process as many times as we would like. However, it takes time to compute through this algorithm. A typical way is to keep iterating until our change in loss reaches a specific threshold. We often also place a limiting number of iterations to save time, in case we do not reach that threshold in a reasonable amount of time. For this example, we use a limiter of 100 and do not apply a threshold."
   ]
  },
  {
   "cell_type": "code",
   "execution_count": 24,
   "metadata": {
    "code_folding": [
     0
    ],
    "scrolled": true
   },
   "outputs": [
    {
     "name": "stdout",
     "output_type": "stream",
     "text": [
      "113.58953422620543\n"
     ]
    }
   ],
   "source": [
    "# MSE, w = 0\n",
    "loss_pre = loss(0, x_data, y_data)\n",
    "print(np.mean(loss_pre))"
   ]
  },
  {
   "cell_type": "code",
   "execution_count": 28,
   "metadata": {
    "code_folding": []
   },
   "outputs": [],
   "source": [
    "# MSE, w = 0, 100 iterations\n",
    "w = 0\n",
    "alpha = 0.001\n",
    "\n",
    "# Store values\n",
    "loss_list = []\n",
    "w_list = []\n",
    "\n",
    "# Iterate 100 times\n",
    "for epoch in range(100):\n",
    "    l_sum = 0\n",
    "    for x_val, y_val in zip(x_data, y_data):     # w changes for each value (x_val, y_val)\n",
    "        grad = gradient(w, x_val, y_val, alpha)\n",
    "        w = w - grad\n",
    "        l = loss(w, x_val, y_val)\n",
    "        l_sum += l\n",
    "    #print(f'Epoch: {epoch}, Loss = {l}')\n",
    "    w_list.append(w)                             # store total loss of that total run through\n",
    "    loss_list.append(l_sum)"
   ]
  },
  {
   "cell_type": "code",
   "execution_count": 10,
   "metadata": {
    "code_folding": []
   },
   "outputs": [
    {
     "name": "stdout",
     "output_type": "stream",
     "text": [
      "Final weight value: \n",
      "w = 1.9947609154981376 \n",
      "\n",
      "Final loss value:\n",
      "mse=  0.005929437101750099\n"
     ]
    },
    {
     "data": {
      "image/png": "[encoded data removed]",
      "text/plain": [
       "<Figure size 432x288 with 1 Axes>"
      ]
     },
     "metadata": {
      "needs_background": "light"
     },
     "output_type": "display_data"
    }
   ],
   "source": [
    "# Plot Loss vs Iterations\n",
    "plt.plot(loss_list)\n",
    "plt.title('Loss Iterations')\n",
    "plt.xlabel('epoch')\n",
    "plt.ylabel('Loss')\n",
    "plt.show()\n",
    "print(\"Final weight value: \\nw =\", w, \"\\n\\nFinal loss value:\\nmse= \", loss_list[-1]/len(y_data))"
   ]
  },
  {
   "cell_type": "markdown",
   "metadata": {},
   "source": [
    "__Results__  \n",
    "Apparently, the algorithm found a great value for w with very few iterations!\n",
    "  \n",
    "__Notes__  \n",
    "Stochastic Gradient Descent updates the weights after each training sample - so for every x_val, y_val. The advantage is in using less memory since we only have to store samples rather than entire batches. Furthermore, this may lead to overall faster computations and convergence. At the same time, a disadvantage is that this also means there is more oscillations per iteration, which can in turn end up with faults in the convergence and actually slow down the process.\n",
    "  \n",
    "__LIMITATION__  \n",
    "Gradient Descent relies on knowing the loss function and being able to compute it manually, as we did when we implemented our gradient() function. Sometimes, this is not possible. Not only is it too difficult to solve manually, there may be too many when forming multiple layers of a neural network."
   ]
  },
  {
   "cell_type": "markdown",
   "metadata": {},
   "source": [
    "## 4. Back Propogation"
   ]
  },
  {
   "cell_type": "markdown",
   "metadata": {},
   "source": [
    "We have L = (yhat - y)^2 meaning we have 3 computational 'gates': a multiplication forward pass, a minus, and then a square. Substituting in all of the variables in our forward function we get: \n",
    "  \n",
    "L = (w * x - y) ^2\n",
    "  \n",
    "Splitting each computation as a function, and thus creating a succession of linear transformations, we can break it up using chain rule to calculate the gradient of loss with respect to the weight.  \n",
    "The name 'Back Propogation' comes from calculating forwards first to find our loss, then using it to go backwards to fill in our derivatives until we have all of our pieces to get the gradient."
   ]
  },
  {
   "cell_type": "code",
   "execution_count": 11,
   "metadata": {
    "code_folding": []
   },
   "outputs": [
    {
     "name": "stdout",
     "output_type": "stream",
     "text": [
      "x = 1\n",
      "w = 1\n",
      "y = 2\n",
      "Loss of 1\n"
     ]
    }
   ],
   "source": [
    "# Forward\n",
    "x_val = 1\n",
    "w = 1\n",
    "y_val = 2\n",
    "\n",
    "yhat = w*x_val        # forward\n",
    "s = yhat - y_val      # intermediate step\n",
    "l = np.square(s)  # loss\n",
    "print(f'x = {x_val}\\nw = {w}\\ny = {y_val}\\nLoss of {l}')"
   ]
  },
  {
   "cell_type": "code",
   "execution_count": 12,
   "metadata": {
    "code_folding": []
   },
   "outputs": [],
   "source": [
    "# Back Propogation\n",
    "## Goal is to find dl/dw, since optimizing on loss to find weight\n",
    "## dl/dw = dyl/dyhat * dyhat / dw\n",
    "\n",
    "dl_ds = 2*s      # dl/ds = ds^2/ds = 2s\n",
    "ds_dyhat = 1     # ds/dyhat = d(yhat-y)/dyhat = 1 - 0\n",
    "dyhat_dw = x_val # dwx/dw"
   ]
  },
  {
   "cell_type": "code",
   "execution_count": 13,
   "metadata": {
    "code_folding": []
   },
   "outputs": [],
   "source": [
    "# Gradient Calculation\n",
    "dl_dw = dl_ds*ds_dyhat*dyhat_dw\n",
    "grad = dl_dw"
   ]
  },
  {
   "cell_type": "code",
   "execution_count": 14,
   "metadata": {
    "code_folding": [
     1
    ]
   },
   "outputs": [],
   "source": [
    "# Back Prop Function\n",
    "def back_prop(w, x, y, loss=False):\n",
    "    # forward\n",
    "    y_ = w*x\n",
    "    s = y_ - y\n",
    "    l = np.square(s)\n",
    "    \n",
    "    # chain rule backward\n",
    "    dl_ds = 2*s\n",
    "    ds_dy_ = 1\n",
    "    dy__dw = x\n",
    "    grad = dl_ds*ds_dy_*dy__dw\n",
    "    \n",
    "    # can return loss\n",
    "    if loss:\n",
    "        grad = (grad, l)\n",
    "    return(grad)"
   ]
  },
  {
   "cell_type": "code",
   "execution_count": 15,
   "metadata": {
    "code_folding": [
     0
    ]
   },
   "outputs": [
    {
     "data": {
      "text/plain": [
       "True"
      ]
     },
     "execution_count": 15,
     "metadata": {},
     "output_type": "execute_result"
    }
   ],
   "source": [
    "# Back Prop vs Gradient Step\n",
    "(w, x, y) = (1, 2, 4)\n",
    "back_prop(w, x, y) == gradient(w, x, y) # alpha=1 by default"
   ]
  },
  {
   "cell_type": "markdown",
   "metadata": {},
   "source": [
    "### Summary"
   ]
  },
  {
   "cell_type": "markdown",
   "metadata": {},
   "source": [
    "This notebook went over building a linear model and using both gradient descent and back propogation to find the minimum of a sum of squares loss function with respect to the weight. The implementations in this are straightforward enough, but a lot of these computations become increasingly complex as our data set changes. In Part 2, we begin using the PyTorch library."
   ]
  }
 ],
 "metadata": {
  "kernelspec": {
   "display_name": "Python 3",
   "language": "python",
   "name": "python3"
  },
  "language_info": {
   "codemirror_mode": {
    "name": "ipython",
    "version": 3
   },
   "file_extension": ".py",
   "mimetype": "text/x-python",
   "name": "python",
   "nbconvert_exporter": "python",
   "pygments_lexer": "ipython3",
   "version": "3.7.3"
  }
 },
 "nbformat": 4,
 "nbformat_minor": 2
}
