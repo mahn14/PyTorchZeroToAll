{
 "cells": [
  {
   "cell_type": "markdown",
   "metadata": {},
   "source": [
    "# 1. Fundamentals"
   ]
  },
  {
   "cell_type": "markdown",
   "metadata": {},
   "source": [
    "## PyTorch: ZeroToAll"
   ]
  },
  {
   "cell_type": "markdown",
   "metadata": {},
   "source": [
    "These notebooks goes over my implementation of [Sung Kim's PyTorch:ZeroToAll](https://www.youtube.com/watch?v=SKq-pmkekTk&list=PLlMkM4tgfjnJ3I-dbhO9JTw7gNty6o_2m&index=1) video lecture series from YouTube.\n",
    "  \n",
    "The goal of this project is to learn while teaching; while I fully recommend going through his videos and original repository, I believe that writing updated code in my own manner can be useful for anyone new to PyTorch and machine learning. I will try to explain what is going on to the best of my ability, but expect a the reader to already understand basic calculus, linear algebra, and programming."
   ]
  },
  {
   "cell_type": "markdown",
   "metadata": {},
   "source": [
    "## 2. Linear Model"
   ]
  },
  {
   "cell_type": "markdown",
   "metadata": {},
   "source": [
    "__Linear Model__  \n",
    "We begin by building a simple, linear model $\\vec{y} = x^{T}w$.\n",
    "  \n",
    "For this, we use a makeshift dataset of the form $y = 2*x + e$. Note that the x and y are $\"nx1\"$ dimensions, meaning we only have 1 predictor variable (as opposed to x being a matrix). The $e$ represents intentional perturbations from a Normal distribution."
   ]
  },
  {
   "cell_type": "markdown",
   "metadata": {},
   "source": [
    "__Building a Model__  \n",
    "Bulding a model means finding its parameters, $w$.  \n",
    "We designed our problem for the \"correct\" parameter to be 2. However, how could we have found this value if we were only given data? Here is how:\n",
    "  \n",
    "1. We choose a model  $\\vec{y} = x^{T}w$  \n",
    "2. We choose a loss function $L = \\frac{1}{n}\\sum_{i=0}^{n}(y_{actual}-y_{pred})^{2}$  \n",
    "3. Iterative to minimize $L$  \n",
    "  \n",
    "Note that $y_{pred} = \\vec{y} = x^{T}w$ and $n$ is the number of data rows, or observations. Therefore, we actually know each of the values based on our model and data."
   ]
  },
  {
   "cell_type": "code",
   "execution_count": 1,
   "metadata": {},
   "outputs": [],
   "source": [
    "# Dependencies\n",
    "import numpy as np              # Numerical Python library\n",
    "import matplotlib.pyplot as plt # Plotting library"
   ]
  },
  {
   "cell_type": "code",
   "execution_count": 2,
   "metadata": {
    "code_folding": []
   },
   "outputs": [],
   "source": [
    "# Training Data\n",
    "x_data = np.array(range(0,10))\n",
    "y_data = np.array([2*x + np.random.normal(0, 0.1) for x in x_data]) # Add Normal perturbation"
   ]
  },
  {
   "cell_type": "code",
   "execution_count": 3,
   "metadata": {
    "code_folding": []
   },
   "outputs": [],
   "source": [
    "# Forward Linear Model\n",
    "def forward(w, x):\n",
    "    return(x*w)"
   ]
  },
  {
   "cell_type": "code",
   "execution_count": 4,
   "metadata": {
    "code_folding": []
   },
   "outputs": [],
   "source": [
    "# Sum of Squares Loss\n",
    "def loss(w, x, y):\n",
    "    y_pred = forward(w, x)\n",
    "    l = np.square((y - y_pred)) # Loss per data prediction\n",
    "    return(l)"
   ]
  },
  {
   "cell_type": "code",
   "execution_count": 5,
   "metadata": {
    "code_folding": []
   },
   "outputs": [],
   "source": [
    "# Explore MSE using w\n",
    "# Store values\n",
    "mse_list = []\n",
    "w_list = np.arange(0.0, 4.1, 0.1)\n",
    "\n",
    "# Try out each value of w\n",
    "for w in w_list:\n",
    "    l_sum=0\n",
    "    \n",
    "    # Calculate total model loss for w\n",
    "    for x_val, y_val in zip(x_data, y_data):\n",
    "        l = loss(w, x_val, y_val)\n",
    "        l_sum += l\n",
    "    mse = l_sum/len(y_data)\n",
    "    mse_list.append(mse)"
   ]
  },
  {
   "cell_type": "code",
   "execution_count": 6,
   "metadata": {
    "code_folding": []
   },
   "outputs": [
    {
     "data": {
      "image/png": "[encoded data removed]",
      "text/plain": [
       "<Figure size 432x288 with 1 Axes>"
      ]
     },
     "metadata": {
      "needs_background": "light"
     },
     "output_type": "display_data"
    },
    {
     "name": "stdout",
     "output_type": "stream",
     "text": [
      "W providing minimum Loss:  2.0\n"
     ]
    }
   ],
   "source": [
    "# Loss vs W\n",
    "plt.title(\"Loss Function by Weights\")\n",
    "plt.plot(w_list, mse_list)\n",
    "plt.xlabel('W')\n",
    "plt.ylabel('MSE')\n",
    "plt.show()\n",
    "\n",
    "print(\"W providing minimum Loss: \",w_list[np.argmin(mse_list)])"
   ]
  },
  {
   "cell_type": "markdown",
   "metadata": {},
   "source": [
    "For each w that we tried, the smallest loss happens when $w = 2$, which is how we built our data to be. We were able to do this with knowing only the model's general form, the data values, and a loss function. \n",
    "  \n",
    "However, this process was very inefficient. We chose a random domain space for our parameter $w$, and then found the loss for all of them at every data point. What if our domain was off? And once we find a good estimate for $w$, can we stop? "
   ]
  },
  {
   "cell_type": "markdown",
   "metadata": {},
   "source": [
    "## 3. Gradient Descent"
   ]
  },
  {
   "cell_type": "markdown",
   "metadata": {},
   "source": [
    "__Gradient Descent__  \n",
    "Gradient Descent is an optimization algorithm that moves towards a direction of increase or decrease. Using the idea of a derivative outputing the direction of change, we can move a \"step\" in that direction until we reach convergence.  \n",
    "  \n",
    "Also, we decide how much to move in that direction using a parameter called \"alpha\", $\\alpha$. This makes sure that we converge fast enough by not taking miniscule steps, but also so that we do not pass the minimal value and iterate further away.\n",
    "  \n",
    "__GD on MSE__  \n",
    "Looking at our visualization in Part 2, we can see how our loss function is always concave. Algebraically, this makes sense since we are just looking at a function of the form $L(w) = (y - w*x)^{2}$.  \n",
    "  \n",
    "So, we know that the gradient can show us the direction of decrease at a point, and that the function has a single minimum value for all values w. Essentially, this means that we can continue moving in that direction until we are arbitrarily satisfied with our newfound weight, $w$.\n",
    "  \n",
    "__Algorithm__  \n",
    "Iterate:  \n",
    "$w_{n+1} = w_{n} - \\alpha \\nabla f(w)$  \n",
    "- $\\nabla L = \\frac{dL}{dw}$  \n",
    "- $\\frac{dL}{dw} = 2*x*(y_{actual} - x*w)$"
   ]
  },
  {
   "cell_type": "code",
   "execution_count": 7,
   "metadata": {
    "code_folding": []
   },
   "outputs": [],
   "source": [
    "# Gradient Descent: One Step\n",
    "def gradient(w, x, y, alpha=1):\n",
    "    \n",
    "    # forward function, f\n",
    "    f = forward(w, x)\n",
    "    \n",
    "    # w_new = w_old - dL/dw (move in direction of negative loss)\n",
    "    g = 2*x*alpha*(f - y)\n",
    "    return(g)"
   ]
  },
  {
   "cell_type": "markdown",
   "metadata": {},
   "source": [
    "__When are we finished?__  \n",
    "We can iterate through this process as many times as we would like. However, it takes time to compute through this algorithm. A typical way is to keep iterating until our change in loss reaches a specific threshold. We often also place a limiting number of iterations to save time, in case we do not reach that threshold in a reasonable amount of time. For this example, we use a limiter of 100 and do not apply a threshold."
   ]
  },
  {
   "cell_type": "code",
   "execution_count": 8,
   "metadata": {
    "code_folding": [
     0
    ],
    "scrolled": true
   },
   "outputs": [
    {
     "name": "stdout",
     "output_type": "stream",
     "text": [
      "113.62136476937069\n"
     ]
    }
   ],
   "source": [
    "# MSE, w = 0\n",
    "loss_pre = loss(0, x_data, y_data)\n",
    "print(np.mean(loss_pre))"
   ]
  },
  {
   "cell_type": "code",
   "execution_count": 9,
   "metadata": {
    "code_folding": []
   },
   "outputs": [],
   "source": [
    "# MSE, w = 0, 100 iterations\n",
    "w = 0\n",
    "alpha = 0.001\n",
    "\n",
    "# Store values\n",
    "loss_list = []\n",
    "w_list = []\n",
    "\n",
    "# Iterate 100 times\n",
    "for epoch in range(100):\n",
    "    l_sum = 0\n",
    "    for x_val, y_val in zip(x_data, y_data):     # w changes for each value (x_val, y_val)\n",
    "        alpha_grad = gradient(w, x_val, y_val, alpha)\n",
    "        w = w - alpha_grad\n",
    "        l = loss(w, x_val, y_val)\n",
    "        l_sum += l\n",
    "    #print(f'Epoch: {epoch}, Loss = {l}')\n",
    "    mse = l_sum/len(x_data)\n",
    "    w_list.append(w)                             # store total loss of that total run through\n",
    "    loss_list.append(mse)"
   ]
  },
  {
   "cell_type": "code",
   "execution_count": 11,
   "metadata": {
    "code_folding": []
   },
   "outputs": [
    {
     "data": {
      "image/png": "[encoded data removed]",
      "text/plain": [
       "<Figure size 432x288 with 1 Axes>"
      ]
     },
     "metadata": {
      "needs_background": "light"
     },
     "output_type": "display_data"
    },
    {
     "name": "stdout",
     "output_type": "stream",
     "text": [
      "Final weight value: \n",
      "w = 1.9975088586174297 \n",
      "\n",
      "Final loss value:\n",
      "mse=  0.0022309840312936093\n"
     ]
    }
   ],
   "source": [
    "# Plot Loss vs Iterations\n",
    "plt.plot(loss_list)\n",
    "plt.title('Loss Iterations')\n",
    "plt.xlabel('epoch')\n",
    "plt.ylabel('Loss')\n",
    "plt.show()\n",
    "print(\"Final weight value: \\nw =\", w, \"\\n\\nFinal loss value:\\nmse= \", loss_list[-1]/len(y_data))"
   ]
  },
  {
   "cell_type": "markdown",
   "metadata": {},
   "source": [
    "__Results__  \n",
    "Apparently, the algorithm found a great value for w with very few iterations!\n",
    "  \n",
    "__Notes__  \n",
    "If our data set were much bigger, we can alter the GD algorithm to only use a sample of the total data set in each iteration. This is called Stochastic Gradient Descent, and is popular in real life.\n",
    "  \n",
    "__LIMITATION__  \n",
    "Gradient Descent relies on knowing the loss function and being able to compute it manually, as we did when we implemented our gradient() function. Sometimes, this is not possible. Not only is it too difficult to solve manually, there may be too many when forming multiple layers of a neural network."
   ]
  },
  {
   "cell_type": "markdown",
   "metadata": {},
   "source": [
    "## 4. Back Propogation"
   ]
  },
  {
   "cell_type": "markdown",
   "metadata": {},
   "source": [
    "Back Propogation works by splitting up our computations, examining the results of each, and using a system of substitutions to calculate the partial derivative at each one. This allows us to find the derivatives at each point and thus apply gradient descent to the Loss."
   ]
  },
  {
   "cell_type": "markdown",
   "metadata": {},
   "source": [
    "We have $L = (y_{actual} - y_{pred})^2$ meaning we have 3 computational 'gates': a multiplication forward pass, a minus, and then a square. Substituting in all of the variables in our forward function we get: \n",
    "  \n",
    "L = (w * x - y) ^2\n",
    "  \n",
    "Splitting each computation as a function, and thus creating a succession of linear transformations, we can break it up using chain rule to calculate the gradient of loss with respect to the weight.  \n",
    "The name 'Back Propogation' comes from calculating forwards first to find our loss, then using it to go backwards to fill in our derivatives until we have all of our pieces to get the gradient."
   ]
  },
  {
   "cell_type": "code",
   "execution_count": 12,
   "metadata": {
    "code_folding": []
   },
   "outputs": [
    {
     "name": "stdout",
     "output_type": "stream",
     "text": [
      "x = 1\n",
      "w = 1\n",
      "y = 2\n",
      "Loss of 1\n"
     ]
    }
   ],
   "source": [
    "# Forward\n",
    "x_val = 1\n",
    "w = 1\n",
    "y_val = 2\n",
    "\n",
    "yhat = w*x_val        # forward\n",
    "s = yhat - y_val      # intermediate step\n",
    "l = np.square(s)  # loss\n",
    "print(f'x = {x_val}\\nw = {w}\\ny = {y_val}\\nLoss of {l}')"
   ]
  },
  {
   "cell_type": "code",
   "execution_count": 13,
   "metadata": {
    "code_folding": []
   },
   "outputs": [],
   "source": [
    "# Back Propogation\n",
    "## Goal is to find dl/dw, since optimizing on loss to find weight\n",
    "## dl/dw = dyl/dyhat * dyhat / dw\n",
    "\n",
    "dl_ds = 2*s      # dl/ds = ds^2/ds = 2s\n",
    "ds_dyhat = 1     # ds/dyhat = d(yhat-y)/dyhat = 1 - 0\n",
    "dyhat_dw = x_val # dwx/dw"
   ]
  },
  {
   "cell_type": "code",
   "execution_count": 14,
   "metadata": {
    "code_folding": []
   },
   "outputs": [],
   "source": [
    "# Gradient Calculation\n",
    "dl_dw = dl_ds*ds_dyhat*dyhat_dw\n",
    "grad = dl_dw"
   ]
  },
  {
   "cell_type": "code",
   "execution_count": 15,
   "metadata": {
    "code_folding": [
     1
    ]
   },
   "outputs": [],
   "source": [
    "# Back Prop Function\n",
    "def back_prop(w, x, y, loss=False):\n",
    "    # forward\n",
    "    y_ = w*x\n",
    "    s = y_ - y\n",
    "    l = np.square(s)\n",
    "    \n",
    "    # chain rule backward\n",
    "    dl_ds = 2*s\n",
    "    ds_dy_ = 1\n",
    "    dy__dw = x\n",
    "    grad = dl_ds*ds_dy_*dy__dw\n",
    "    \n",
    "    # can return loss\n",
    "    if loss:\n",
    "        grad = (grad, l)\n",
    "    return(grad)"
   ]
  },
  {
   "cell_type": "code",
   "execution_count": 16,
   "metadata": {
    "code_folding": [
     0
    ]
   },
   "outputs": [
    {
     "data": {
      "text/plain": [
       "True"
      ]
     },
     "execution_count": 16,
     "metadata": {},
     "output_type": "execute_result"
    }
   ],
   "source": [
    "# Back Prop vs Gradient Step\n",
    "(w, x, y) = (1, 2, 4)\n",
    "back_prop(w, x, y) == gradient(w, x, y) # alpha=1 by default"
   ]
  },
  {
   "cell_type": "markdown",
   "metadata": {},
   "source": [
    "### Summary"
   ]
  },
  {
   "cell_type": "markdown",
   "metadata": {},
   "source": [
    "This notebook went over building a linear model and using both gradient descent and back propogation to find the minimum of a sum of squares loss function with respect to the weight. The implementations in this are straightforward enough, but a lot of these computations become increasingly complex as our data set changes. In Part 2, we begin using the PyTorch library."
   ]
  }
 ],
 "metadata": {
  "kernelspec": {
   "display_name": "Python 3",
   "language": "python",
   "name": "python3"
  },
  "language_info": {
   "codemirror_mode": {
    "name": "ipython",
    "version": 3
   },
   "file_extension": ".py",
   "mimetype": "text/x-python",
   "name": "python",
   "nbconvert_exporter": "python",
   "pygments_lexer": "ipython3",
   "version": "3.7.3"
  }
 },
 "nbformat": 4,
 "nbformat_minor": 2
}
