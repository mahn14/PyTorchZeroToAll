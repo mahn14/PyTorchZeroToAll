{
 "cells": [
  {
   "cell_type": "markdown",
   "metadata": {},
   "source": [
    "## Numpy vs PyTorch (Softmax)"
   ]
  },
  {
   "cell_type": "markdown",
   "metadata": {},
   "source": [
    "### Numpy: Cross Entropy Loss"
   ]
  },
  {
   "cell_type": "code",
   "execution_count": 31,
   "metadata": {},
   "outputs": [],
   "source": [
    "import numpy as np "
   ]
  },
  {
   "cell_type": "code",
   "execution_count": 32,
   "metadata": {},
   "outputs": [
    {
     "name": "stdout",
     "output_type": "stream",
     "text": [
      "Numpy Loss 1 =  0.35667494393873245\n",
      "Numpy Loss 2 =  2.3025850929940455\n"
     ]
    }
   ],
   "source": [
    "# Numpy uses one-hot format\n",
    "Y = np.array([1, 0, 0])\n",
    "\n",
    "y_pred1 = np.array([0.7, 0.2, 0.1])\n",
    "y_pred2 = np.array([0.1, 0.3, 0.6])\n",
    "\n",
    "l1 = np.sum(-Y * np.log(y_pred1)) # 0.35\n",
    "l2 = np.sum(-Y * np.log(y_pred2)) # 2.3\n",
    "print(\"Numpy Loss 1 = \", l1)               \n",
    "print(\"Numpy Loss 2 = \", l2)               "
   ]
  },
  {
   "cell_type": "markdown",
   "metadata": {},
   "source": [
    "### PyTorch: Softmax + Cross Entropy Loss"
   ]
  },
  {
   "cell_type": "code",
   "execution_count": 30,
   "metadata": {},
   "outputs": [],
   "source": [
    "import torch\n",
    "import torch.nn as nn\n",
    "\n",
    "from torch.autograd import Variable"
   ]
  },
  {
   "cell_type": "markdown",
   "metadata": {},
   "source": [
    "__Single Prediction__"
   ]
  },
  {
   "cell_type": "code",
   "execution_count": 24,
   "metadata": {},
   "outputs": [
    {
     "name": "stdout",
     "output_type": "stream",
     "text": [
      "PyTorch Loss 1 =  0.41702985763549805\n",
      "PyTorch Loss 2 =  1.840616226196289\n"
     ]
    }
   ],
   "source": [
    "import torch\n",
    "import torch.nn as nn\n",
    "\n",
    "from torch.autograd import Variable\n",
    "\n",
    "# CrossEntropy Loss\n",
    "loss = nn.CrossEntropyLoss() # logSoftmax + NLLLoss\n",
    "\n",
    "# PyTorch uses class tensors not one-hot\n",
    "Y = Variable(torch.LongTensor([0]), requires_grad=False)\n",
    "\n",
    "# Input:\n",
    "## Matrix of one-hot arrays (logits) as predictions\n",
    "## Puts logits into softmax then CE Loss\n",
    "y_pred1 = Variable(torch.Tensor([[2.0, 1.0, 0.1]]))\n",
    "y_pred2 = Variable(torch.Tensor([[0.5, 2.0, 0.3]]))\n",
    "\n",
    "# Loss\n",
    "l1 = loss(y_pred1, Y) # 0.42\n",
    "l2 = loss(y_pred2, Y) # 0.84\n",
    "\n",
    "print(\"PyTorch Loss 1 = \", l1.data.item()) \n",
    "print(\"PyTorch Loss 2 = \", l2.data.item())"
   ]
  },
  {
   "cell_type": "markdown",
   "metadata": {},
   "source": [
    "__Matrix Prediction__"
   ]
  },
  {
   "cell_type": "code",
   "execution_count": 29,
   "metadata": {},
   "outputs": [
    {
     "name": "stdout",
     "output_type": "stream",
     "text": [
      "Batch Loss 1 =  0.4966353178024292\n",
      "Batch Loss 2 =  1.2388995885849\n"
     ]
    }
   ],
   "source": [
    "Y = Variable(torch.LongTensor([2, 0, 1]), requires_grad=False)\n",
    "\n",
    "# One Hot probabilities\n",
    "y_pred1 = Variable(torch.Tensor( [[0.1, 0.2, 0.9],    # high value for 2 label\n",
    "                                  [1.1, 0.1, 0.2],    # high value for 0 label\n",
    "                                  [0.2, 2.1, 0.1]] )) # high value for 1 label\n",
    "\n",
    "y_pred2 = Variable(torch.Tensor( [[0.8, 0.2, 0.3],    # bad predictions\n",
    "                                  [0.2, 0.3, 0.5],\n",
    "                                  [0.2, 0.2, 0.5]] ))\n",
    "\n",
    "l1 = loss(y_pred1, Y)  # 0.49\n",
    "l2 = loss(y_pred2, Y)  # 1.24\n",
    "\n",
    "print(\"Batch Loss 1 = \", l1.data.item())\n",
    "print(\"Batch Loss 2 = \", l2.data.item())"
   ]
  }
 ],
 "metadata": {
  "kernelspec": {
   "display_name": "Python 3",
   "language": "python",
   "name": "python3"
  },
  "language_info": {
   "codemirror_mode": {
    "name": "ipython",
    "version": 3
   },
   "file_extension": ".py",
   "mimetype": "text/x-python",
   "name": "python",
   "nbconvert_exporter": "python",
   "pygments_lexer": "ipython3",
   "version": "3.7.3"
  }
 },
 "nbformat": 4,
 "nbformat_minor": 2
}
