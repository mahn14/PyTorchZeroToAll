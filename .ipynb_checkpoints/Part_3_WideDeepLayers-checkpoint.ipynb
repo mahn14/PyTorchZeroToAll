{
 "cells": [
  {
   "cell_type": "code",
   "execution_count": 26,
   "metadata": {},
   "outputs": [],
   "source": [
    "import numpy as np\n",
    "import matplotlib.pyplot as plt \n",
    "\n",
    "import torch\n",
    "from torch.autograd import Variable\n",
    "import torch.nn.functional as F"
   ]
  },
  {
   "cell_type": "markdown",
   "metadata": {},
   "source": [
    "## 7. Wide vs Deep Data"
   ]
  },
  {
   "cell_type": "markdown",
   "metadata": {},
   "source": [
    "\n"
   ]
  },
  {
   "cell_type": "markdown",
   "metadata": {},
   "source": [
    "__Wide__  \n",
    "Instead of having a single input vector x, real world problems usually involve multiple variables (features). This means that vector x becomes a matrix X, and constant weight w becomes a vector.   \n",
    "Thus, we have a matrix multiplication X * w = y"
   ]
  },
  {
   "cell_type": "code",
   "execution_count": 2,
   "metadata": {},
   "outputs": [
    {
     "data": {
      "text/plain": [
       "Linear(in_features=2, out_features=1, bias=True)"
      ]
     },
     "execution_count": 2,
     "metadata": {},
     "output_type": "execute_result"
    }
   ],
   "source": [
    "# Linear model with 2 input features\n",
    "torch.nn.Linear(2,1)"
   ]
  },
  {
   "cell_type": "markdown",
   "metadata": {},
   "source": [
    "__Deep__  \n",
    "Also, the idea of deep learning is that we do not just apply our original forward pass just once. We continue to apply that as a series of transformations."
   ]
  },
  {
   "cell_type": "code",
   "execution_count": 3,
   "metadata": {
    "code_folding": [
     0
    ]
   },
   "outputs": [
    {
     "data": {
      "text/latex": [
       "$\\displaystyle X \\rightarrow Linear \\rightarrow  Sigmoid \\rightarrow Linear \\rightarrow  Sigmoid \\rightarrow Linear \\rightarrow  Sigmoid \\rightarrow \\hat{y}$"
      ],
      "text/plain": [
       "<IPython.core.display.Math object>"
      ]
     },
     "execution_count": 3,
     "metadata": {},
     "output_type": "execute_result"
    }
   ],
   "source": [
    "# Logistic Regression\n",
    "from IPython.display import Math\n",
    "Math(r'X \\rightarrow Linear \\rightarrow  Sigmoid \\rightarrow Linear \\rightarrow  Sigmoid \\rightarrow Linear \\rightarrow  Sigmoid \\rightarrow \\hat{y}')"
   ]
  },
  {
   "cell_type": "markdown",
   "metadata": {},
   "source": [
    "__Wide & Deep Learning__  \n",
    "This means that we have to pay attention to the dimensions of the linear models that we multiply in these matrix transformations."
   ]
  },
  {
   "cell_type": "markdown",
   "metadata": {},
   "source": [
    "### Diabetes Dataset"
   ]
  },
  {
   "cell_type": "markdown",
   "metadata": {},
   "source": [
    "We can practice these ideas on the Diabetes set, which consists of information on whether a patient has diabetes or not. \n",
    "  \n",
    "Two important concepts to try out here: \n",
    "1. Layers - to do this, we feed the output of the first layer into the second layer, and so on. We also choose what dimension the input transforms into. This must match what we specify as the input of the next layer.  \n",
    "2. Optimization Function - instead of Stochastic Gradient Descent, let us try another function, Rprop. There are many different functions to use."
   ]
  },
  {
   "cell_type": "code",
   "execution_count": 14,
   "metadata": {
    "code_folding": [
     0
    ],
    "scrolled": true
   },
   "outputs": [
    {
     "name": "stdout",
     "output_type": "stream",
     "text": [
      "X Shape: torch.Size([759, 8]),\n",
      "Y Shape: torch.Size([759, 1])\n"
     ]
    },
    {
     "data": {
      "text/html": [
       "<div>\n",
       "<style scoped>\n",
       "    .dataframe tbody tr th:only-of-type {\n",
       "        vertical-align: middle;\n",
       "    }\n",
       "\n",
       "    .dataframe tbody tr th {\n",
       "        vertical-align: top;\n",
       "    }\n",
       "\n",
       "    .dataframe thead th {\n",
       "        text-align: right;\n",
       "    }\n",
       "</style>\n",
       "<table border=\"1\" class=\"dataframe\">\n",
       "  <thead>\n",
       "    <tr style=\"text-align: right;\">\n",
       "      <th></th>\n",
       "      <th>0</th>\n",
       "      <th>1</th>\n",
       "      <th>2</th>\n",
       "      <th>3</th>\n",
       "      <th>4</th>\n",
       "      <th>5</th>\n",
       "      <th>6</th>\n",
       "      <th>7</th>\n",
       "      <th>8</th>\n",
       "    </tr>\n",
       "  </thead>\n",
       "  <tbody>\n",
       "    <tr>\n",
       "      <th>0</th>\n",
       "      <td>-0.294118</td>\n",
       "      <td>0.487437</td>\n",
       "      <td>0.180328</td>\n",
       "      <td>-0.292929</td>\n",
       "      <td>0.0</td>\n",
       "      <td>0.001490</td>\n",
       "      <td>-0.531170</td>\n",
       "      <td>-0.033333</td>\n",
       "      <td>0</td>\n",
       "    </tr>\n",
       "    <tr>\n",
       "      <th>1</th>\n",
       "      <td>-0.882353</td>\n",
       "      <td>-0.145729</td>\n",
       "      <td>0.081967</td>\n",
       "      <td>-0.414141</td>\n",
       "      <td>0.0</td>\n",
       "      <td>-0.207153</td>\n",
       "      <td>-0.766866</td>\n",
       "      <td>-0.666667</td>\n",
       "      <td>1</td>\n",
       "    </tr>\n",
       "    <tr>\n",
       "      <th>2</th>\n",
       "      <td>-0.058824</td>\n",
       "      <td>0.839196</td>\n",
       "      <td>0.049180</td>\n",
       "      <td>0.000000</td>\n",
       "      <td>0.0</td>\n",
       "      <td>-0.305514</td>\n",
       "      <td>-0.492741</td>\n",
       "      <td>-0.633333</td>\n",
       "      <td>0</td>\n",
       "    </tr>\n",
       "  </tbody>\n",
       "</table>\n",
       "</div>"
      ],
      "text/plain": [
       "          0         1         2         3    4         5         6         7  \\\n",
       "0 -0.294118  0.487437  0.180328 -0.292929  0.0  0.001490 -0.531170 -0.033333   \n",
       "1 -0.882353 -0.145729  0.081967 -0.414141  0.0 -0.207153 -0.766866 -0.666667   \n",
       "2 -0.058824  0.839196  0.049180  0.000000  0.0 -0.305514 -0.492741 -0.633333   \n",
       "\n",
       "   8  \n",
       "0  0  \n",
       "1  1  \n",
       "2  0  "
      ]
     },
     "execution_count": 14,
     "metadata": {},
     "output_type": "execute_result"
    }
   ],
   "source": [
    "# Read data\n",
    "import pandas as pd\n",
    "df = pd.read_csv('Data/diabetes.csv.gz', header=None)\n",
    "x_data = Variable(torch.from_numpy(df.iloc[:,:-1].values))\n",
    "y_data = Variable(torch.from_numpy(df.iloc[:,[-1]].values)) # note using [-1] not -1\n",
    "print(f'X Shape: {x_data.shape},\\nY Shape: {y_data.shape}')\n",
    "df.head(3)"
   ]
  },
  {
   "cell_type": "code",
   "execution_count": 15,
   "metadata": {
    "code_folding": []
   },
   "outputs": [],
   "source": [
    "# Deep learning model with 3 acitvation layers\n",
    "class Model2(torch.nn.Module):\n",
    "   \n",
    "    def __init__(self):\n",
    "        \"\"\"\n",
    "        In the constructor we instantiate two nn.Linear module\n",
    "        \"\"\"\n",
    "        super(Model2, self).__init__()\n",
    "        self.l1 = torch.nn.Linear(8,60)\n",
    "        self.l2 = torch.nn.Linear(60,40)\n",
    "        self.l3 = torch.nn.Linear(40,1)\n",
    "        \n",
    "        self.sigmoid = torch.nn.Sigmoid()\n",
    "        \n",
    "    def forward(self, x):\n",
    "        \"\"\"\n",
    "        Forward function applies 3 linear transformations with sigmoid function\n",
    "        \n",
    "        param x : Variable input data\n",
    "        return y_pred: Variable output data\n",
    "        \"\"\"\n",
    "        out1 = self.sigmoid(self.l1(x))\n",
    "        out2 = self.sigmoid(self.l2(out1))\n",
    "        \n",
    "        y_pred = self.sigmoid(self.l3(out2))\n",
    "        return(y_pred)"
   ]
  },
  {
   "cell_type": "code",
   "execution_count": 32,
   "metadata": {
    "code_folding": []
   },
   "outputs": [],
   "source": [
    "# Model, Loss, Optimizer\n",
    "model2_SGD = Model2()\n",
    "model2_Rprop = Model2()\n",
    "\n",
    "criterion = torch.nn.BCELoss()\n",
    "\n",
    "optimizer_SGD = torch.optim.SGD(model2_SGD.parameters(), lr=0.01)    #stochastic gradient descent\n",
    "optimizer_Rprop = torch.optim.Rprop(model2_Rprop.parameters(), lr=0.01)  #Rprop"
   ]
  },
  {
   "cell_type": "code",
   "execution_count": 39,
   "metadata": {
    "code_folding": [
     2
    ]
   },
   "outputs": [],
   "source": [
    "# SGD\n",
    "loss_list_SGD = []\n",
    "for epoch in range(500):\n",
    "    y_pred_SGD = model2_SGD(x_data.float())\n",
    "    \n",
    "    loss_SGD = criterion(y_pred_SGD, y_data.float())\n",
    "    loss_list_SGD.append(loss_SGD)\n",
    "    \n",
    "    optimizer1.zero_grad()\n",
    "    loss_SGD.backward()\n",
    "    optimizer_SGD.step()"
   ]
  },
  {
   "cell_type": "code",
   "execution_count": 40,
   "metadata": {
    "code_folding": []
   },
   "outputs": [],
   "source": [
    "# Rprop\n",
    "loss_list_Rprop = []\n",
    "for epoch in range(500):\n",
    "    y_pred_Rprop = model2_Rprop(x_data.float())\n",
    "    \n",
    "    loss_Rprop = criterion(y_pred_Rprop, y_data.float())\n",
    "    loss_list_Rprop.append(loss_Rprop)\n",
    "    #print(loss_Rprop)\n",
    "    optimizer_Rprop.zero_grad()\n",
    "    loss_Rprop.backward()\n",
    "    optimizer_Rprop.step()"
   ]
  },
  {
   "cell_type": "code",
   "execution_count": 65,
   "metadata": {},
   "outputs": [
    {
     "data": {
      "image/png": "[encoded data removed]",
      "text/plain": [
       "<Figure size 1080x720 with 1 Axes>"
      ]
     },
     "metadata": {
      "needs_background": "light"
     },
     "output_type": "display_data"
    }
   ],
   "source": [
    "# Loss fuction by epoch\n",
    "f = plt.figure(figsize=(15, 10))\n",
    "plt.title('SGD vs Rprop', fontsize=20)\n",
    "plt.xlabel('Epoch', fontsize=15)\n",
    "plt.ylabel('Loss', fontsize=15)\n",
    "\n",
    "ax1 = plt.plot(loss_list_SGD)\n",
    "ax2 = plt.plot(loss_list_Rprop)\n",
    "plt.show()"
   ]
  }
 ],
 "metadata": {
  "kernelspec": {
   "display_name": "Python 3",
   "language": "python",
   "name": "python3"
  },
  "language_info": {
   "codemirror_mode": {
    "name": "ipython",
    "version": 3
   },
   "file_extension": ".py",
   "mimetype": "text/x-python",
   "name": "python",
   "nbconvert_exporter": "python",
   "pygments_lexer": "ipython3",
   "version": "3.7.3"
  }
 },
 "nbformat": 4,
 "nbformat_minor": 2
}
