{
 "cells": [
  {
   "cell_type": "code",
   "execution_count": 1,
   "metadata": {},
   "outputs": [],
   "source": [
    "import numpy as np\n",
    "import matplotlib.pyplot as plt\n",
    "import torch\n",
    "from torch.autograd import Variable\n",
    "import torch.nn.functional as F"
   ]
  },
  {
   "cell_type": "markdown",
   "metadata": {},
   "source": [
    "## 4. Back Propogation (cont.)"
   ]
  },
  {
   "cell_type": "markdown",
   "metadata": {},
   "source": [
    "Instead of using our self implemented gradient() or back_prop() functions, we can use PyTorch's library functions for very similar results."
   ]
  },
  {
   "cell_type": "code",
   "execution_count": 2,
   "metadata": {},
   "outputs": [],
   "source": [
    "# Training Data\n",
    "x_data = [1.0, 2.0, 3.0]\n",
    "y_data = [2.0, 4.0, 6.0]\n",
    "\n",
    "w = Variable(torch.Tensor([1.0]), requires_grad=True) #any random value"
   ]
  },
  {
   "cell_type": "code",
   "execution_count": 3,
   "metadata": {
    "code_folding": [
     4
    ]
   },
   "outputs": [],
   "source": [
    "# Forward and Loss functions from Part_1\n",
    "def forward(w, x):\n",
    "    return(w*x)\n",
    "\n",
    "def loss(w, x, y):\n",
    "    y_pred = forward(w,x)\n",
    "    loss = (y_pred - y) * (y_pred - y)\n",
    "    return(loss)"
   ]
  },
  {
   "cell_type": "code",
   "execution_count": 4,
   "metadata": {
    "code_folding": [
     0
    ]
   },
   "outputs": [
    {
     "data": {
      "text/plain": [
       "tensor(4.)"
      ]
     },
     "execution_count": 4,
     "metadata": {},
     "output_type": "execute_result"
    }
   ],
   "source": [
    "# Returns a tensor w*x\n",
    "forward(w, 4).data[0] #w is a tensor"
   ]
  },
  {
   "cell_type": "code",
   "execution_count": 5,
   "metadata": {
    "code_folding": [],
    "scrolled": true
   },
   "outputs": [
    {
     "name": "stdout",
     "output_type": "stream",
     "text": [
      "Epoch: 0, Loss = tensor([7.3159], grad_fn=<MulBackward0>)\n",
      "Epoch: 1, Loss = tensor([3.9988], grad_fn=<MulBackward0>)\n",
      "Epoch: 2, Loss = tensor([2.1857], grad_fn=<MulBackward0>)\n",
      "Epoch: 3, Loss = tensor([1.1946], grad_fn=<MulBackward0>)\n",
      "Epoch: 4, Loss = tensor([0.6530], grad_fn=<MulBackward0>)\n",
      "Epoch: 5, Loss = tensor([0.3569], grad_fn=<MulBackward0>)\n",
      "Epoch: 6, Loss = tensor([0.1951], grad_fn=<MulBackward0>)\n",
      "Epoch: 7, Loss = tensor([0.1066], grad_fn=<MulBackward0>)\n",
      "Epoch: 8, Loss = tensor([0.0583], grad_fn=<MulBackward0>)\n",
      "Epoch: 9, Loss = tensor([0.0319], grad_fn=<MulBackward0>)\n",
      "Final weight, w = 1.9512161016464233\n"
     ]
    }
   ],
   "source": [
    "# Train forward model using built-in PyTorch Tensor library\n",
    "# Tensor stores computational graph automatically since requires_grad=True\n",
    "for epoch in range(10):\n",
    "    for x_val, y_val in zip(x_data, y_data):\n",
    "        l = loss(w, x_val, y_val)\n",
    "        l.backward()  #knows to go backward since the computations were stored in tensor, w\n",
    "        w.data = w.data - 0.01*w.grad.data\n",
    "        \n",
    "        w.grad.data.zero_() #erase records of previous passes\n",
    "    print(f'Epoch: {epoch}, Loss = {l}')\n",
    "print(f'Final weight, w = {w.data[0]}')"
   ]
  },
  {
   "cell_type": "markdown",
   "metadata": {},
   "source": [
    "Remember that we really just need the input variables, weights, and the gradient so that we can calculate a direction of minimizing loss."
   ]
  },
  {
   "cell_type": "markdown",
   "metadata": {},
   "source": [
    "## 5. Linear Regression in PyTorch"
   ]
  },
  {
   "cell_type": "markdown",
   "metadata": {},
   "source": [
    "We want to go further than just the simplest model. Now, we want to:\n",
    "1. Design model with Variables  \n",
    "2. Construct Loss and Optimizer (from PyTorch)  \n",
    "3. Train Model  \n",
    "4. Test Model"
   ]
  },
  {
   "cell_type": "code",
   "execution_count": 6,
   "metadata": {},
   "outputs": [],
   "source": [
    "# Training data\n",
    "x_data = Variable(torch.Tensor([[1.0], [2.0], [3.0]]))\n",
    "y_data = Variable(torch.Tensor([[2.0], [4.0], [6.0]]))"
   ]
  },
  {
   "cell_type": "markdown",
   "metadata": {},
   "source": [
    "__1. Design Model__"
   ]
  },
  {
   "cell_type": "code",
   "execution_count": 7,
   "metadata": {
    "code_folding": []
   },
   "outputs": [],
   "source": [
    "# Linear Model class\n",
    "class Model(torch.nn.Module):\n",
    "\n",
    "    def __init__(self):\n",
    "        \"\"\" Instantiate two nn.Linear modules \"\"\"\n",
    "        super(Model, self).__init__()\n",
    "        self.linear = torch.nn.Linear(1,1) #linear model with 1 input, 1 output\n",
    "    \n",
    "    def forward(self, x):\n",
    "        \"\"\" Predict function using model after training\n",
    "        Param x :: Variable\n",
    "        Return y_pred :: Variable\n",
    "        \"\"\"\n",
    "        y_pred = self.linear(x) #PyTorch's linear prediction\n",
    "        return(y_pred)"
   ]
  },
  {
   "cell_type": "markdown",
   "metadata": {},
   "source": [
    "__2. Construct Loss and Optimizer__"
   ]
  },
  {
   "cell_type": "code",
   "execution_count": 8,
   "metadata": {},
   "outputs": [],
   "source": [
    "# Model, MSE Loss Function, SGD Optimizer\n",
    "model = Model()\n",
    "criterion = torch.nn.MSELoss(reduction='sum')\n",
    "optimizer = torch.optim.SGD(model.parameters(), lr=0.01)"
   ]
  },
  {
   "cell_type": "markdown",
   "metadata": {},
   "source": [
    "__3. Train Model__"
   ]
  },
  {
   "cell_type": "code",
   "execution_count": 9,
   "metadata": {},
   "outputs": [
    {
     "name": "stdout",
     "output_type": "stream",
     "text": [
      "Epoch: 0, Loss = 34.4931640625\n",
      "Epoch: 1, Loss = 15.360153198242188\n",
      "Epoch: 2, Loss = 6.842611312866211\n",
      "Epoch: 3, Loss = 3.050776481628418\n",
      "Epoch: 4, Loss = 1.3626923561096191\n",
      "Epoch: 5, Loss = 0.6111398339271545\n",
      "Epoch: 6, Loss = 0.2765045464038849\n",
      "Epoch: 7, Loss = 0.12747128307819366\n",
      "Epoch: 8, Loss = 0.06106254458427429\n",
      "Epoch: 9, Loss = 0.03143744543194771\n"
     ]
    }
   ],
   "source": [
    "# Train model\n",
    "counter = 0\n",
    "for epoch in range(500):\n",
    "    y_pred = model(x_data) #randomly decides starting weight, w on first pass\n",
    "    loss = criterion(y_pred, y_data)\n",
    "    \n",
    "    if counter < 10:\n",
    "        print(f'Epoch: {epoch}, Loss = {loss.item()}')\n",
    "        counter+=1\n",
    "        \n",
    "    optimizer.zero_grad() #initialize gradient\n",
    "    loss.backward()       #perform backward pass\n",
    "    optimizer.step()      #update the variable (parameters)"
   ]
  },
  {
   "cell_type": "markdown",
   "metadata": {},
   "source": [
    "__4. Test Model__"
   ]
  },
  {
   "cell_type": "code",
   "execution_count": 10,
   "metadata": {},
   "outputs": [
    {
     "name": "stdout",
     "output_type": "stream",
     "text": [
      "Input = 4.0: Output = 7.997081756591797\n"
     ]
    }
   ],
   "source": [
    "# Test model\n",
    "x_test = Variable(torch.Tensor([[4.0]]))\n",
    "y_test = model.forward(x_test).data[0][0]\n",
    "print(f'Input = {x_test.data[0][0]}: Output = {y_test}')"
   ]
  },
  {
   "cell_type": "markdown",
   "metadata": {},
   "source": [
    "## 6. Logistic"
   ]
  },
  {
   "cell_type": "markdown",
   "metadata": {},
   "source": [
    "Binary classification using Logistic Regression, a common building block of neural networks.\n",
    "  \n",
    "Logistic Regression is very similar to linear regression; we simply add a sigmoid function at the end of our forward pass to get value from 0 to 1. We round this value to get a final output.\n",
    "  \n",
    "Because of this sigmoid function, we change our loss function to Cross Entropy Loss."
   ]
  },
  {
   "cell_type": "markdown",
   "metadata": {},
   "source": [
    "__Model__"
   ]
  },
  {
   "cell_type": "code",
   "execution_count": 11,
   "metadata": {
    "code_folding": [
     0
    ]
   },
   "outputs": [
    {
     "data": {
      "text/latex": [
       "$\\displaystyle x \\rightarrow Linear \\rightarrow  Sigmoid \\rightarrow \\hat{y}$"
      ],
      "text/plain": [
       "<IPython.core.display.Math object>"
      ]
     },
     "execution_count": 11,
     "metadata": {},
     "output_type": "execute_result"
    }
   ],
   "source": [
    "# Logistic Regression\n",
    "from IPython.display import Math\n",
    "Math(r'x \\rightarrow Linear \\rightarrow  Sigmoid \\rightarrow \\hat{y}')"
   ]
  },
  {
   "cell_type": "code",
   "execution_count": 12,
   "metadata": {
    "code_folding": [
     1,
     4
    ]
   },
   "outputs": [],
   "source": [
    "# Forward pass\n",
    "def forward(w, x, b):\n",
    "    return(w*x + b)\n",
    "\n",
    "def sigmoid(Z):\n",
    "    d = np.array([1+np.exp(-z) for z in Z])\n",
    "    return(1/d)"
   ]
  },
  {
   "cell_type": "code",
   "execution_count": 13,
   "metadata": {
    "code_folding": [
     0
    ]
   },
   "outputs": [],
   "source": [
    "# Cross Entropy Loss\n",
    "def CE_Loss(yhat_, y_, p=False):\n",
    "    assert len(yhat_) == len(y_)\n",
    "    loss_list = []\n",
    "    N = len(yhat_)\n",
    "    for i in range(N):\n",
    "        y = y_[i]\n",
    "        yhat = yhat_[i]\n",
    "\n",
    "        l = -1* (y*np.log(yhat) + (1-y)*np.log(1-yhat))\n",
    "        loss_list.append(l)\n",
    "        \n",
    "        if p:\n",
    "            print(l)\n",
    "    # Total loss\n",
    "    L = np.sum(loss_list) / N\n",
    "    return(L)"
   ]
  },
  {
   "cell_type": "markdown",
   "metadata": {},
   "source": [
    "__Example__  \n",
    "  \n",
    "  Let us try on some data. We can see that as our y_pred values are closer to the true binary y value, our loss is smaller."
   ]
  },
  {
   "cell_type": "code",
   "execution_count": 14,
   "metadata": {},
   "outputs": [
    {
     "name": "stdout",
     "output_type": "stream",
     "text": [
      "1.6094379124341003\n",
      "0.2231435513142097\n",
      "0.10536051565782628\n",
      "2.302585092994046\n"
     ]
    },
    {
     "data": {
      "text/plain": [
       "1.0601317681000455"
      ]
     },
     "execution_count": 14,
     "metadata": {},
     "output_type": "execute_result"
    }
   ],
   "source": [
    "# Loss on sample data\n",
    "y_pred = [0.2, 0.8, 0.1, 0.9]\n",
    "y = [1, 1, 0, 0]\n",
    "CE_Loss(y_pred, y, True)"
   ]
  },
  {
   "cell_type": "markdown",
   "metadata": {},
   "source": [
    "__PyTorch__"
   ]
  },
  {
   "cell_type": "code",
   "execution_count": 18,
   "metadata": {},
   "outputs": [],
   "source": [
    "# Linear Model class with Sigmoid\n",
    "class Model(torch.nn.Module):\n",
    "    \n",
    "    def __init__(self):\n",
    "        super(Model, self).__init__()\n",
    "        self.linear = torch.nn.Linear(1, 1) #still linear model with 1 input, 1 output\n",
    "    \n",
    "    def forward(self, x):\n",
    "        y_pred = torch.sigmoid(self.linear(x))  #wrap foward pass with sigmoid\n",
    "        return(y_pred)"
   ]
  },
  {
   "cell_type": "code",
   "execution_count": 19,
   "metadata": {},
   "outputs": [],
   "source": [
    "# Model, Loss, Optimizer\n",
    "model = Model()\n",
    "criterion = torch.nn.BCELoss()            #binary CE Loss\n",
    "optimizer = torch.optim.SGD(model.parameters(), lr=0.01)  #SGD optimizer, same as before"
   ]
  },
  {
   "cell_type": "code",
   "execution_count": 20,
   "metadata": {},
   "outputs": [
    {
     "name": "stdout",
     "output_type": "stream",
     "text": [
      "X Input: tensor([[1.],\n",
      "        [7.]])\n",
      "Y Output: tensor([[0.2981],\n",
      "        [0.9880]])\n"
     ]
    }
   ],
   "source": [
    "# Training data\n",
    "x_data = Variable(torch.Tensor([[1.0], [2.0], [3.0], [4.0]]))\n",
    "y_data = Variable(torch.Tensor([[0.], [0.], [1.], [1.]]))\n",
    "\n",
    "# Train Model\n",
    "for epoch in range(1000):\n",
    "    y_pred = model(x_data)\n",
    "    \n",
    "    loss = criterion(y_pred, y_data)\n",
    "    \n",
    "    optimizer.zero_grad()\n",
    "    loss.backward()\n",
    "    optimizer.step()\n",
    "\n",
    "# Test Model\n",
    "x_test = Variable(torch.Tensor([[1.0], [7.0]]))\n",
    "y_test = model.forward(x_test).data\n",
    "print('X Input:',x_test)\n",
    "print('Y Output:', y_test)"
   ]
  },
  {
   "cell_type": "markdown",
   "metadata": {},
   "source": [
    "We can see here that if we round our test's output values, we would have gotten the answer expect."
   ]
  }
 ],
 "metadata": {
  "kernelspec": {
   "display_name": "Python 3",
   "language": "python",
   "name": "python3"
  },
  "language_info": {
   "codemirror_mode": {
    "name": "ipython",
    "version": 3
   },
   "file_extension": ".py",
   "mimetype": "text/x-python",
   "name": "python",
   "nbconvert_exporter": "python",
   "pygments_lexer": "ipython3",
   "version": "3.7.3"
  }
 },
 "nbformat": 4,
 "nbformat_minor": 2
}
